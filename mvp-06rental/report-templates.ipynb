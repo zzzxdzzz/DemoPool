{
 "cells": [
  {
   "cell_type": "code",
   "execution_count": null,
   "id": "3ee1ccbb-085e-438b-925f-5a560cbe0618",
   "metadata": {},
   "outputs": [],
   "source": [
    "from docx import Document\n",
    "\n",
    "# Create a standardized radon report template\n",
    "doc = Document()\n",
    "\n",
    "doc.add_heading('RADON MEASUREMENT REPORT', level=1)\n",
    "\n",
    "doc.add_paragraph('Property Address: _________________________________')\n",
    "doc.add_paragraph('Unit / Floor (if applicable): ______________________')\n",
    "doc.add_paragraph('City, State, ZIP: _________________________________')\n",
    "\n",
    "doc.add_paragraph('\\nDate of Measurement Start: _________________________')\n",
    "doc.add_paragraph('Date of Measurement End: ___________________________')\n",
    "doc.add_paragraph('Total Measurement Duration: _________________________')\n",
    "\n",
    "doc.add_paragraph('\\nRadon Measurement Device Used: _____________________')\n",
    "doc.add_paragraph('Device Model / Serial Number: ______________________')\n",
    "doc.add_paragraph('Calibration Date (if applicable): ___________________')\n",
    "\n",
    "doc.add_paragraph('\\nTest Conditions:')\n",
    "doc.add_paragraph('- All windows and exterior doors were kept closed except for normal entry/exit.')\n",
    "doc.add_paragraph('- No whole-house ventilation or exhaust systems were operated that could influence radon levels.')\n",
    "doc.add_paragraph('- Weather conditions during the test were within acceptable operating range for the device.\\n')\n",
    "\n",
    "doc.add_paragraph('Measurement Result:')\n",
    "doc.add_paragraph('Radon Concentration: ______ pCi/L (Picocuries per Liter)\\n')\n",
    "\n",
    "doc.add_paragraph('Interpretation (EPA Guidelines):')\n",
    "doc.add_paragraph('- Below 2.0 pCi/L: Considered low. No action typically required.')\n",
    "doc.add_paragraph('- 2.0 – 3.9 pCi/L: Consider retesting periodically. Mitigation may be considered.')\n",
    "doc.add_paragraph('- 4.0 pCi/L or higher: EPA recommends radon mitigation.\\n')\n",
    "\n",
    "doc.add_paragraph('Summary and Recommendation:')\n",
    "doc.add_paragraph('________________________________________________________')\n",
    "doc.add_paragraph('________________________________________________________')\n",
    "doc.add_paragraph('________________________________________________________\\n')\n",
    "\n",
    "doc.add_paragraph('Certified / Conducted By: ______________________________')\n",
    "doc.add_paragraph('Contact Email / Phone: ________________________________')\n",
    "doc.add_paragraph('\\nSignature: __________________________      Date: ____________')\n",
    "\n",
    "filename = '/mnt/data/Radon_Report_Template.docx'\n",
    "doc.save(filename)\n",
    "filename\n"
   ]
  },
  {
   "cell_type": "code",
   "execution_count": null,
   "id": "92402305-c887-4623-aa5d-afeaac100398",
   "metadata": {},
   "outputs": [],
   "source": []
  }
 ],
 "metadata": {
  "kernelspec": {
   "display_name": "Python 3 (ipykernel)",
   "language": "python",
   "name": "python3"
  },
  "language_info": {
   "codemirror_mode": {
    "name": "ipython",
    "version": 3
   },
   "file_extension": ".py",
   "mimetype": "text/x-python",
   "name": "python",
   "nbconvert_exporter": "python",
   "pygments_lexer": "ipython3",
   "version": "3.12.2"
  }
 },
 "nbformat": 4,
 "nbformat_minor": 5
}
